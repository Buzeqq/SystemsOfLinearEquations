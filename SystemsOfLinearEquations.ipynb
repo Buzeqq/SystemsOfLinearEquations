{
 "cells": [
  {
   "cell_type": "markdown",
   "source": [
    "# Układy równań liniowych oraz różne sposoby ich rozwiązywania"
   ],
   "metadata": {
    "collapsed": false,
    "pycharm": {
     "name": "#%% md\n"
    }
   }
  },
  {
   "cell_type": "markdown",
   "source": [
    "## Przykładowy układ równań i sposób jego przedstawienia za pomocą macierzy\n",
    "Taki układ równań:\n",
    "$$\n",
    "    \\begin{cases}\n",
    "        2.3x_1 - 3.4x_2 + 0.66x_3 = 13.1 \\\\ \\\\\n",
    "        -0.23x_1 + 6.2x_2 + 12.2x_3 = 2.0 \\\\ \\\\\n",
    "        22.12x_1 + 3.33x_2 - 7.89x_3 = -23.12\n",
    "    \\end{cases}\n",
    "$$\n",
    "można zapisać za pomocą macierzy w ten sposób:\n",
    "$$\n",
    "    \\begin{gather}\n",
    "        \\begin{bmatrix}\n",
    "            2.3 & -3.4 & 0.66 \\\\\n",
    "            -0.23 & 6.2 & 12.2 \\\\\n",
    "            22.12 & 3.33 & -7.89\n",
    "        \\end{bmatrix}\n",
    "        *\n",
    "        \\begin{bmatrix}\n",
    "            x_1 \\\\\n",
    "            x_2 \\\\\n",
    "            x_3\n",
    "        \\end{bmatrix}\n",
    "        =\n",
    "        \\begin{bmatrix}\n",
    "            13.1 \\\\\n",
    "            2.0 \\\\\n",
    "            -23.12\n",
    "        \\end{bmatrix}\n",
    "    \\end{gather}\n",
    "$$\n",
    "gdzie kolejno $ \\textbf{A} $ to macierz podstawowa (główna) układu, $ \\textbf{x} $ to wektor niewiadomych oraz $ \\textbf{b} $ to wektor wyrazów wolnych. Ogólnie równanie macierzowe przedstawiamy więc, w następujący sposób:\n",
    "\n",
    "$$ \\textbf{A} * \\textbf{x} = \\textbf{b} $$\n",
    "\n",
    "Spotkać się też można z macierzą zawierającą wyrazy wolne, należy to traktować jak wiele układów równań, gdzie każdy składa się z takich samych współczynników oraz dla każdego układu przypisujemy kolejne kolumny macierzy wyrazów wolnych."
   ],
   "metadata": {
    "collapsed": false,
    "pycharm": {
     "name": "#%% md\n"
    }
   }
  },
  {
   "cell_type": "markdown",
   "source": [
    "## Analiza sposobów rozwiązywania układów macierzowych"
   ],
   "metadata": {
    "collapsed": false,
    "pycharm": {
     "name": "#%% md\n"
    }
   }
  },
  {
   "cell_type": "markdown",
   "source": [
    "### Dane testowe\n",
    "Jako dane testowe przyjmujemy macierz pasmową. Macierz pasmowa (wstęgowa) to kwadratowa macierz rzadka, której wszystkie elementy są zerowe poza diagonalą i pasmem (wstęgą) wokół niej. Mając daną macierz $ {\\displaystyle n\\times n,}$ jej elementy $ {\\displaystyle a_{i,j}} $ są niezerowe, gdy ${\\displaystyle i-k_{1}\\leqslant j\\leqslant i+k_{2},}$ gdzie ${\\displaystyle k_{1,2}\\geqslant 0}$ określają tzw. szerokość pasma. Jednak aby uprościć obliczenia będziemy operować na macierzach w formacie pełnym.\n",
    "\n",
    "Nasza macierz główna będzie wymiaru $934 \\times 934, k_1 = k_2 = 2$ oraz będzie zawierać następujące elementy:\n",
    "\n",
    "$$\n",
    "\\[\n",
    "  \\textbf{A} =\n",
    "  \\left[ {\\begin{array}{cccc}\n",
    "    14 & -1 & -1 & 0 & 0 & 0 & 0 & \\cdots & 0 \\\\\n",
    "    -1 & 14 & -1 & -1 & 0 & 0 & 0 & \\cdots & 0 \\\\\n",
    "    -1 & -1 & 14 & -1 & -1 & 0 & 0 & \\cdots & 0 \\\\\n",
    "    0 & -1 & -1 & 14 & -1 & -1 & 0 & \\cdots & 0 \\\\\n",
    "    \\vdots &  & \\ddots & \\ddots & \\ddots & \\ddots & \\ddots &  & \\vdots \\\\\n",
    "    0 & \\cdots & 0 & -1 & -1 & 14 & -1 & -1 & 0 \\\\\n",
    "    0 & \\cdots & 0 & 0 & -1 & -1 & 14 & -1 & -1 \\\\\n",
    "    0 & \\cdots & 0 & 0 & 0 & -1 & -1 & 14 & -1 \\\\\n",
    "    0 & \\cdots & 0 & 0 & 0 & 0 & -1 & -1 & 14 \\\\\n",
    "  \\end{array} } \\right]\n",
    "\\]\n",
    "$$\n",
    "\n",
    "wektor wyrazów wolnych:\n",
    "\n",
    "$$\n",
    "\\[\n",
    "  \\textbf{b} =\n",
    "  \\left[ {\\begin{array}{cccc}\n",
    "    sin(0) \\\\\n",
    "    sin(5) \\\\\n",
    "    sin(10) \\\\\n",
    "    \\vdots \\\\\n",
    "    sin(525) \\\\\n",
    "    sin(530) \\\\\n",
    "    sin(535)\n",
    "  \\end{array} } \\right]\n",
    "\\]\n",
    "$$\n"
   ],
   "metadata": {
    "collapsed": false,
    "pycharm": {
     "name": "#%% md\n"
    }
   }
  },
  {
   "cell_type": "code",
   "execution_count": 1,
   "outputs": [],
   "source": [
    "from math import sin\n",
    "from matrix import Matrix\n",
    "\n",
    "\n",
    "def generate_test_data(size: int, a_1: float, a_2: float, a_3: float, f_4: int):\n",
    "    a = Matrix(size)\n",
    "    for i in range(a.rows):\n",
    "        for j in range(a.cols):\n",
    "            if i == j:\n",
    "\n",
    "                a[i, j] = a_1\n",
    "            else:\n",
    "                distance = abs(i - j)\n",
    "                if distance == 1:\n",
    "                    a[i, j] = a_2\n",
    "                if distance == 2:\n",
    "                    a[i, j] = a_3\n",
    "\n",
    "    b = Matrix(size=(size, 1))\n",
    "    for i in range(b.rows):\n",
    "        b[i, 0] = sin(i * (f_4 + 1))\n",
    "\n",
    "    return a, b\n",
    "\n",
    "\n",
    "my_index = \"184934\"\n",
    "n = int(\"9\" + my_index[len(my_index) - 2] + my_index[len(my_index) - 1])\n",
    "a1 = 5 + float(my_index[3])\n",
    "a2 = a3 = -1.0\n",
    "f = int(my_index[2])\n",
    "matrix_a, vector_b = generate_test_data(n, a1, a2, a3, f)"
   ],
   "metadata": {
    "collapsed": false,
    "pycharm": {
     "name": "#%%\n"
    }
   }
  },
  {
   "cell_type": "markdown",
   "source": [
    "### Metody iteracyjne\n",
    "Jako pierwsze testować będziemy metody iteracyjne, a konkretnie metodę Jacobiego oraz metodą Gaussa-Seidla. Metody iteracyjne to metody, które nie uzyskują dokładnego rozwiązania, a tylko jego przybliżenie, w zamian za szybkość działania.\n",
    "\n",
    "Bardzo ważne dla algorytmów iteracyjnych jest określenie, w jakim momencie osiągneliśmy satysfakcjonujące przybliżenie rozwiązania. W tym celu skorzystamy z tzw. *wektora residuum*, który dla *k*-tej iteracji przyjmuje postać:\n",
    "\n",
    "$$\n",
    "    \\textbf{res^{(k)}} = \\textbf{A}\\textbf{x}^{(k)} - \\textbf{b}\n",
    "$$\n",
    "\n",
    "Wielkość błędu natomiast jesteśmy w stanie zbadać określając jego normę euklidesową.\n",
    "\n",
    "$$\n",
    "    ||\\textbf{e}||_2 = \\sqrt{\\sum_{j=1}^{n}e_j^2}\n",
    "$$"
   ],
   "metadata": {
    "collapsed": false,
    "pycharm": {
     "name": "#%% md\n"
    }
   }
  },
  {
   "cell_type": "code",
   "execution_count": 2,
   "outputs": [
    {
     "name": "stdout",
     "output_type": "stream",
     "text": [
      "21.598539852267848\n"
     ]
    }
   ],
   "source": [
    "from math import sqrt\n",
    "\n",
    "\n",
    "def euclidean_norm(vec: Matrix):\n",
    "    return sqrt(sum([vec[i, 0] ** 2 for i in range(vec.rows)]))\n",
    "\n",
    "\n",
    "print(euclidean_norm(vector_b))"
   ],
   "metadata": {
    "collapsed": false,
    "pycharm": {
     "name": "#%%\n"
    }
   }
  },
  {
   "cell_type": "markdown",
   "source": [
    "#### Metoda Jacobiego\n",
    "Metoda Jacobiego to jedna z metod iteracyjnych. Do wyliczenia kolejnych wektorów przybliżeń, używany jest wektor z poprzedniej iteracji. Mimo, że część obecnego wektora jest już wyliczona.\n",
    "\n",
    "Pierwszym krokiem jest rozbicie macierzy systemowej na trzy macierze: $ \\textbf{A} = -\\textbf{L} -\\textbf{U} + \\textbf{D} $, gdzie kolejno macierz $ \\textbf{L} $ to macierz trójkątna dolna, zawierająca liczby przeciwne **poniżej** głównej diagonali macierzy $ \\textbf{A} $, macierz $ \\textbf{U} $ to macierz trójkątna górna, zawierająca liczby przeciwne **powyżej** głównej diagonali macierzy $ \\textbf{A} $, macierz $ \\textbf{D} $ to macierz diagonalna, zawierająca liczby z głównej diagonali macierzy $ \\textbf{A} $.\n",
    "\n",
    "Przekształcając równanie $ \\textbf{A}*\\textbf{x}=\\textbf{b} $, wykorzystując powyższą równość otrzymujemy:\n",
    "$$\n",
    "    (-\\textbf{L} - \\textbf{U} + \\textbf{D})\\textbf{x} = \\textbf{b}\n",
    "$$\n",
    "po serii przekształceń:\n",
    "$$\n",
    "    \\textbf{D}\\textbf{x} = (\\textbf{L} + \\textbf{U})\\textbf{x} + \\textbf{b} \\\\\n",
    "    \\textbf{x} = \\textbf{D}^{-1}(\\textbf{L} + \\textbf{U})\\textbf{x} + \\textbf{D}^{-1}\\textbf{b} \\\\\n",
    "$$\n",
    "otrzymujemy ostateczny wzór:\n",
    "$$\n",
    "    \\tilde{\\textbf{x}}^{(n+1)} = \\textbf{D}^{-1}(\\textbf{L} + \\textbf{U})\\tilde{\\textbf{x}}^{(n)} + \\textbf{D}^{-1}\\textbf{b}\n",
    "$$\n",
    "gdzie $ (n) $ oznacza n-tą iteracje.\n",
    "\n",
    "Metoda ta wykorzystuje szybkie obliczeniowo rozwiązywanie układów równań zapisanych za pomocą macierzy **diagonalnych**, opisane takim wzorem:\n",
    "$$\n",
    "    x_i = \\frac{b_i}{a_{ii}}\n",
    "$$\n",
    "gdzie $ i $ to kolejne indeksy rzędów."
   ],
   "metadata": {
    "collapsed": false,
    "pycharm": {
     "name": "#%% md\n"
    }
   }
  },
  {
   "cell_type": "code",
   "execution_count": 3,
   "outputs": [],
   "source": [
    "from math import isinf\n",
    "from matrix import diagonal_solver\n",
    "\n",
    "\n",
    "def jacobi(a: Matrix, b: Matrix, epsilon: float):\n",
    "    x = Matrix(size=(a.rows, 1))\n",
    "    it = 0\n",
    "\n",
    "    upper = -a.tri_u(1)\n",
    "    lower = -a.tri_l(1)\n",
    "    diagonal = a.diag()\n",
    "\n",
    "    const_1 = diagonal_solver(diagonal, lower + upper)\n",
    "    const_2 = diagonal_solver(diagonal, b)\n",
    "    \n",
    "    residuum_norm_list = []\n",
    "    while True:\n",
    "        it += 1\n",
    "        x = const_1 * x + const_2\n",
    "\n",
    "        residuum = a * x - b\n",
    "        norm = euclidean_norm(residuum)\n",
    "        residuum_norm_list.append(norm)\n",
    "        if norm <= epsilon or isinf(norm):\n",
    "            break\n",
    "    return it, residuum_norm_list, x"
   ],
   "metadata": {
    "collapsed": false,
    "pycharm": {
     "name": "#%%\n"
    }
   }
  },
  {
   "cell_type": "markdown",
   "source": [
    "#### Metoda Gaussa-Seidla\n",
    "Metoda Gaussa-Seidla to kolejna metoda iteracyjna, bardzo podobna to poprzednio opisanej. Jednak zamiast używać wektora przybliżenia z poprzedniej iteracji używamy najnowszych danych.\n",
    "\n",
    "Również stosujemy podział na trzy macierze $ \\textbf{L}, \\textbf{U}, \\textbf{D} $. Przekształcenia nieco się różnią:\n",
    "$$\n",
    "    (-\\textbf{L} - \\textbf{U} + \\textbf{D})\\textbf{x} = \\textbf{b} \\\\\n",
    "    (\\textbf{D} - \\textbf{L})\\textbf{x} = \\textbf{U}\\textbf{x} + \\textbf{b} \\\\\n",
    "    \\textbf{x} = (\\textbf{D} - \\textbf{L})^{-1}(\\textbf{U}\\textbf{x}) + (\\textbf{D} - \\textbf{L})^{-1}\\textbf{b} \\\\\n",
    "    \\tilde{\\textbf{x}}^{(n+1)} = (\\textbf{D} - \\textbf{L})^{-1}(\\textbf{U}\\tilde{\\textbf{x}}^{(n)}) + (\\textbf{D} - \\textbf{L})^{-1}\\textbf{b}\n",
    "$$\n",
    "gdzie $ (n) $ oznacza n-tą iteracje.\n",
    "\n",
    "Tym razem przy rozwiązywaniu układów równań, mamy do czynienia z macierzami trójkątnymi dolnymi. Rozwiązanie ich również jest szybkie obliczeniowo. Wykorzystamy do tego algorytm o nazmie: **Forward Substitution**.\n",
    "\n",
    "Mając taki układ równań:\n",
    "$$\n",
    "\\[\n",
    "  \\left[ {\\begin{array}{cccc}\n",
    "    a_{11} & 0 & \\cdots & 0 \\\\\n",
    "    a_{21} & a_{22} & \\cdots & 0 \\\\\n",
    "    \\vdots & \\vdots & \\ddots & \\vdots \\\\\n",
    "    a_{m1} & a_{m2} & \\cdots & a_{mm} \\\\\n",
    "  \\end{array} } \\right]\n",
    "\\]\n",
    "\\[\n",
    "  \\left[ {\\begin{array}{cccc}\n",
    "    x_1 \\\\\n",
    "    \\vdots \\\\\n",
    "    x_{m-1} \\\\\n",
    "    x_m\n",
    "  \\end{array} } \\right]\n",
    "\\]\n",
    "=\n",
    "\\[\n",
    "  \\left[ {\\begin{array}{cccc}\n",
    "    b_1 \\\\\n",
    "    \\vdots \\\\\n",
    "    b_{m-1} \\\\\n",
    "    b_m\n",
    "  \\end{array} } \\right]\n",
    "\\]\n",
    "$$\n",
    "\n",
    "Możemy go rozwiązać korzystając z takiego wzoru:\n",
    "$$\n",
    "x_1 = \\frac{b_1}{a_{11}} \\\\\n",
    "x_2 = \\frac{b_2 - a_{21}x_1}{a_{22}} \\\\\n",
    "x_3 = \\frac{b_3 - a_{31}x_1 - a_{32}x_2}{a_{33}} \\\\\n",
    "\\vdots \\\\\n",
    "x_m = \\frac{b_m - \\sum_{i=1}^{m-1}a_{mi}x_i}{a_{mm}}\n",
    "$$"
   ],
   "metadata": {
    "collapsed": false,
    "pycharm": {
     "name": "#%% md\n"
    }
   }
  },
  {
   "cell_type": "code",
   "execution_count": 4,
   "outputs": [],
   "source": [
    "from matrix import forward_substitution_solver\n",
    "\n",
    "\n",
    "def gauss_seidel(a: Matrix, b: Matrix, epsilon: float):\n",
    "    x = Matrix(size=(a.rows, 1))\n",
    "    it = 0\n",
    "\n",
    "    upper = -a.tri_u(1)\n",
    "    lower = -a.tri_l(1)\n",
    "    diagonal = a.diag()\n",
    "\n",
    "    const_1 = diagonal - lower\n",
    "    const_2 = forward_substitution_solver(const_1, b)\n",
    "    \n",
    "    residuum_norm_list = []\n",
    "    while True:\n",
    "        it += 1\n",
    "        x = forward_substitution_solver(const_1, upper * x) + const_2\n",
    "\n",
    "        residuum = a * x - b\n",
    "        norm = euclidean_norm(residuum)\n",
    "        residuum_norm_list.append(norm)\n",
    "        if norm <= epsilon or isinf(norm):\n",
    "            break\n",
    "    return it, residuum_norm_list, x"
   ],
   "metadata": {
    "collapsed": false,
    "pycharm": {
     "name": "#%%\n"
    }
   }
  },
  {
   "cell_type": "markdown",
   "source": [
    "#### Porównanie metod\n"
   ],
   "metadata": {
    "collapsed": false,
    "pycharm": {
     "name": "#%% md\n"
    }
   }
  },
  {
   "cell_type": "code",
   "execution_count": 6,
   "outputs": [
    {
     "name": "stdout",
     "output_type": "stream",
     "text": [
      "Jacobi:\n",
      "Time: 27.27s\n",
      "Iterations: 15 \n",
      "\n",
      "Gauss-Seidel:\n",
      "Time: 15.18s\n",
      "Iterations: 11 \n",
      "\n",
      "Gauss-Seidel method was faster by: 12.09s\n"
     ]
    }
   ],
   "source": [
    "import time\n",
    "\n",
    "eps = 1e-9\n",
    "start_time = time.time()\n",
    "jacobi_iterations, jacobi_norm, _ = jacobi(matrix_a, vector_b, eps)\n",
    "jacobi_time = time.time() - start_time\n",
    "print(\"Jacobi:\")\n",
    "print(\"Time:\", \"%.2f\" % jacobi_time + \"s\")\n",
    "print(\"Iterations:\", jacobi_iterations, \"\\n\")\n",
    "\n",
    "start_time = time.time()\n",
    "gauss_iterations, gauss_norm, _ = gauss_seidel(matrix_a, vector_b, eps)\n",
    "gauss_time = time.time() - start_time\n",
    "print(\"Gauss-Seidel:\")\n",
    "print(\"Time:\", \"%.2f\" % gauss_time + \"s\")\n",
    "print(\"Iterations:\", gauss_iterations, \"\\n\")\n",
    "\n",
    "delta = abs(jacobi_time - gauss_time)\n",
    "if gauss_time < jacobi_time:\n",
    "    print(\"Gauss-Seidel method was faster by:\", \"%.2f\" % delta + \"s\")\n",
    "else:\n",
    "    print(\"Jacobi method was faster by:\", \"%.2f\" % delta + \"s\")"
   ],
   "metadata": {
    "collapsed": false,
    "pycharm": {
     "name": "#%%\n"
    }
   }
  },
  {
   "cell_type": "markdown",
   "source": [
    "Metoda Gaussa-Seidla potrzebowała mniej czasu oraz iteracji, niż metoda Jacobiego w jakich otrzymaliśmy wymagane przybliżenie. Z tych obserwacji możemy stwierdzić, że metoda Gaussa-Seidla zwraca w kolejnych iteracjach dokładniejsze przybliżenia.\n",
    "\n",
    "Jednak metody iteracyjne nie są idealne. Otrzymaliśmy poprawne wyniki, ponieważ dobraliśmy dane testowe do metod. Zobaczmy co się stanie, gdy dobierzemy nieco inne dane testowe."
   ],
   "metadata": {
    "collapsed": false,
    "pycharm": {
     "name": "#%% md\n"
    }
   }
  },
  {
   "cell_type": "code",
   "execution_count": 12,
   "outputs": [],
   "source": [
    "matrix_a, vector_b = generate_test_data(n, 3., -1., -1., f)\n",
    "\n",
    "jacobi_iterations_2, jacobi_norm_2, _ = jacobi(matrix_a, vector_b, eps)\n",
    "gauss_iterations_2, gauss_norm_2, _ = gauss_seidel(matrix_a, vector_b, eps)"
   ],
   "metadata": {
    "collapsed": false,
    "pycharm": {
     "name": "#%%\n"
    }
   }
  },
  {
   "cell_type": "markdown",
   "source": [
    "#### Warunki zbieżności metod iteracyjnych\n",
    "Korzystając z metod iteracyjnych musimy się liczyć z tym, że nie zawsze otrzymamy przybliżenie. Warto przed korzystaniem z danej metody sprawdzić jej **warunki zbieżności**.\n",
    "Jednym z warunków obu powyższych metod jest to, aby macierz główna była **diagonalnie dominująca**, czyli taka, dla których suma modułów liczb w danym rzędzie, poza liczbami na diagonali, jest mniejsza od modułu wartości na diagonali.\n",
    "$$\n",
    "    |a_{ii}| > \\sum_{}^{}_{i\\ne{j}}|a_{ij}|\n",
    "$$\n",
    "Łatwo, więc policzyć dla pierwszej macierzy testowej A, warunek ten był spełniony, ponieważ $ 14 > 4 $.\n",
    "W drugim przypadku warunek ten nie jest spełniony $ 3 < 4 $.\n",
    "Zobaczmy jak to wygląda na wykresach."
   ],
   "metadata": {
    "collapsed": false,
    "pycharm": {
     "name": "#%% md\n"
    }
   }
  },
  {
   "cell_type": "code",
   "execution_count": 13,
   "outputs": [
    {
     "ename": "NameError",
     "evalue": "name 'jacobi_iterations_2' is not defined",
     "output_type": "error",
     "traceback": [
      "\u001B[0;31m---------------------------------------------------------------------------\u001B[0m",
      "\u001B[0;31mNameError\u001B[0m                                 Traceback (most recent call last)",
      "Input \u001B[0;32mIn [13]\u001B[0m, in \u001B[0;36m<cell line: 11>\u001B[0;34m()\u001B[0m\n\u001B[1;32m      8\u001B[0m plt\u001B[38;5;241m.\u001B[39mylabel(\u001B[38;5;124m\"\u001B[39m\u001B[38;5;124mNorm of the residuum\u001B[39m\u001B[38;5;124m\"\u001B[39m)\n\u001B[1;32m     10\u001B[0m plt\u001B[38;5;241m.\u001B[39mfigure(\u001B[38;5;241m2\u001B[39m)\n\u001B[0;32m---> 11\u001B[0m plt\u001B[38;5;241m.\u001B[39msemilogy([i \u001B[38;5;28;01mfor\u001B[39;00m i \u001B[38;5;129;01min\u001B[39;00m \u001B[38;5;28mrange\u001B[39m(\u001B[38;5;241m1\u001B[39m, \u001B[43mjacobi_iterations_2\u001B[49m \u001B[38;5;241m+\u001B[39m \u001B[38;5;241m1\u001B[39m)], jacobi_norm_2)\n\u001B[1;32m     12\u001B[0m plt\u001B[38;5;241m.\u001B[39msuptitle(\u001B[38;5;124m\"\u001B[39m\u001B[38;5;124mNorm value from residuum through successive iterations\u001B[39m\u001B[38;5;124m\"\u001B[39m)\n\u001B[1;32m     13\u001B[0m plt\u001B[38;5;241m.\u001B[39mtitle(\u001B[38;5;124m\"\u001B[39m\u001B[38;5;124mJacobi, second test data\u001B[39m\u001B[38;5;124m\"\u001B[39m)\n",
      "\u001B[0;31mNameError\u001B[0m: name 'jacobi_iterations_2' is not defined"
     ]
    },
    {
     "data": {
      "text/plain": "<Figure size 432x288 with 1 Axes>",
      "image/png": "[encoded data removed]"
     },
     "metadata": {
      "needs_background": "light"
     },
     "output_type": "display_data"
    },
    {
     "data": {
      "text/plain": "<Figure size 432x288 with 0 Axes>"
     },
     "metadata": {},
     "output_type": "display_data"
    }
   ],
   "source": [
    "from matplotlib import pyplot as plt\n",
    "\n",
    "plt.figure(1)\n",
    "plt.semilogy([i for i in range(1, jacobi_iterations + 1)], jacobi_norm)\n",
    "plt.suptitle(\"Norm value from residuum through successive iterations\")\n",
    "plt.title(\"Jacobi, first test data\")\n",
    "plt.xlabel(\"Number of iterations\")\n",
    "plt.ylabel(\"Norm of the residuum\")\n",
    "\n",
    "plt.figure(2)\n",
    "plt.semilogy([i for i in range(1, jacobi_iterations_2 + 1)], jacobi_norm_2)\n",
    "plt.suptitle(\"Norm value from residuum through successive iterations\")\n",
    "plt.title(\"Jacobi, second test data\")\n",
    "plt.xlabel(\"Number of iterations\")\n",
    "plt.ylabel(\"Norm of the residuum\")\n",
    "\n",
    "plt.figure(3)\n",
    "plt.semilogy([i for i in range(1, gauss_iterations + 1)], gauss_norm)\n",
    "plt.suptitle(\"Norm value from residuum through successive iterations\")\n",
    "plt.title(\"Gauss-Seidel, first test data\")\n",
    "plt.xlabel(\"Number of iterations\")\n",
    "plt.ylabel(\"Norm of the residuum\")\n",
    "\n",
    "plt.figure(4)\n",
    "plt.semilogy([i for i in range(1, gauss_iterations_2 + 1)], gauss_norm_2)\n",
    "plt.suptitle(\"Norm value from residuum through successive iterations\")\n",
    "plt.title(\"Gauss-Seidel, second test data\")\n",
    "plt.xlabel(\"Number of iterations\")\n",
    "plt.ylabel(\"Norm of the residuum\")\n",
    "\n",
    "plt.show()"
   ],
   "metadata": {
    "collapsed": false,
    "pycharm": {
     "name": "#%%\n"
    }
   }
  },
  {
   "cell_type": "markdown",
   "source": [
    "Na powyższych wykresach widać dokładnie, jak ważny jest dobór metody rozwiązania układu.\n",
    "Dodatkowy warunek zbieżności dla metody Jacobiego: [promień spektranly](https://en.wikipedia.org/wiki/Spectral_radius) macierzy $ \\textbf{D}^{-1}(\\textbf{L} + \\textbf{U}) $, jest mniejszy od 1.\n",
    "Dodatkowy warunek zbieżności dla metody Gaussa-Seidla: $ \\textbf{A} $ jest symetryczna, dodatnio określona.\n",
    "\n",
    "Pojawia się więc pytanie co zrobić, kiedy nasza metoda nie zbiega się.\n",
    "Jednym z rozwiązań jest użycie metody bezpośredniej!"
   ],
   "metadata": {
    "collapsed": false,
    "pycharm": {
     "name": "#%% md\n"
    }
   }
  },
  {
   "cell_type": "markdown",
   "source": [
    "### Metody bezpośrednie\n"
   ],
   "metadata": {
    "collapsed": false,
    "pycharm": {
     "name": "#%% md\n"
    }
   }
  },
  {
   "cell_type": "code",
   "execution_count": 10,
   "outputs": [],
   "source": [
    "from copy import deepcopy\n",
    "from matrix import ones\n",
    "\n",
    "def lu_decomposition(a: Matrix):\n",
    "    upper = deepcopy(a)\n",
    "    lower = ones(a.rows)\n",
    "    perm = ones(a.rows)\n",
    "\n",
    "    for k in range(a.rows - 1):\n",
    "        max_row_index = upper.get_max_abs_in_col_below_row(k, k)\n",
    "        if max_row_index != k:\n",
    "            upper.swap_rows(k, max_row_index, perm)\n",
    "            lower.swap_rows(k, max_row_index, n=k)\n",
    "\n",
    "        for j in range(k+1, a.rows):\n",
    "            value = upper[j, k] / upper[k, k]\n",
    "            lower[j, k] = value\n",
    "\n",
    "            for i in range(k, a.rows):\n",
    "                value = upper[j, i] - lower[j, k] * upper[k, i]\n",
    "                if abs(value) < 1e-15:\n",
    "                    value = 0\n",
    "                upper[j, i] = value\n",
    "    return lower, upper, perm"
   ],
   "metadata": {
    "collapsed": false,
    "pycharm": {
     "name": "#%%\n"
    }
   }
  },
  {
   "cell_type": "code",
   "execution_count": 8,
   "outputs": [],
   "source": [
    "from matrix import backward_substitution_solver\n",
    "\n",
    "def lu_solver(a: Matrix, b: Matrix):\n",
    "    lower, upper, perm = lu_decomposition(a)\n",
    "    b = perm * b\n",
    "\n",
    "    result = Matrix(size=b.size)\n",
    "    for c in range(b.cols):\n",
    "        col = b.get_col(c)\n",
    "\n",
    "        lower_res = forward_substitution_solver(lower, Matrix(from_list=[[i] for i in col]))\n",
    "        upper_res = backward_substitution_solver(upper, lower_res)\n",
    "        result.set_col(c, upper_res.get_col(0))\n",
    "\n",
    "    return result"
   ],
   "metadata": {
    "collapsed": false,
    "pycharm": {
     "name": "#%%\n"
    }
   }
  },
  {
   "cell_type": "code",
   "execution_count": 16,
   "outputs": [],
   "source": [
    "results = lu_solver(matrix_a, vector_b)"
   ],
   "metadata": {
    "collapsed": false,
    "pycharm": {
     "name": "#%%\n"
    }
   }
  },
  {
   "cell_type": "code",
   "execution_count": 17,
   "outputs": [
    {
     "name": "stdout",
     "output_type": "stream",
     "text": [
      "5.293261474521974e-15\n"
     ]
    }
   ],
   "source": [
    "print(euclidean_norm(matrix_a * results - vector_b))"
   ],
   "metadata": {
    "collapsed": false,
    "pycharm": {
     "name": "#%%\n"
    }
   }
  },
  {
   "cell_type": "markdown",
   "source": [
    "## Ostateczne porównanie"
   ],
   "metadata": {
    "collapsed": false,
    "pycharm": {
     "name": "#%% md\n"
    }
   }
  },
  {
   "cell_type": "code",
   "execution_count": 18,
   "outputs": [],
   "source": [
    "jacobi_time = {}\n",
    "gauss_time = {}\n",
    "lu_time = {}\n",
    "for n in [100, 500, 1000, 2000, 3000]:\n",
    "    matrix_a, vector_b = generate_test_data(n, a1, a2, a3, f)\n",
    "\n",
    "    start_time = time.time()\n",
    "    jacobi(matrix_a, vector_b, eps)\n",
    "    jacobi_time[n] = time.time() - start_time\n",
    "\n",
    "    start_time = time.time()\n",
    "    gauss_seidel(matrix_a, vector_b, eps)\n",
    "    gauss_time[n] = time.time() - start_time\n",
    "\n",
    "    start_time = time.time()\n",
    "    lu_solver(matrix_a, vector_b)\n",
    "    lu_time[n] = time.time() - start_time"
   ],
   "metadata": {
    "collapsed": false,
    "pycharm": {
     "name": "#%%\n"
    }
   }
  },
  {
   "cell_type": "code",
   "execution_count": 15,
   "outputs": [
    {
     "data": {
      "text/plain": "[<matplotlib.lines.Line2D at 0x7fa063a13a00>]"
     },
     "execution_count": 15,
     "metadata": {},
     "output_type": "execute_result"
    },
    {
     "data": {
      "text/plain": "<Figure size 432x288 with 1 Axes>",
      "image/png": "[encoded data removed]"
     },
     "metadata": {
      "needs_background": "light"
     },
     "output_type": "display_data"
    },
    {
     "data": {
      "text/plain": "<Figure size 432x288 with 1 Axes>",
      "image/png": "[encoded data removed]"
     },
     "metadata": {
      "needs_background": "light"
     },
     "output_type": "display_data"
    },
    {
     "data": {
      "text/plain": "<Figure size 432x288 with 1 Axes>",
      "image/png": "[encoded data removed]"
     },
     "metadata": {
      "needs_background": "light"
     },
     "output_type": "display_data"
    }
   ],
   "source": [
    "plt.figure(1)\n",
    "plt.plot(jacobi_time.keys(), jacobi_time.values())\n",
    "\n",
    "plt.figure(2)\n",
    "plt.plot(gauss_time.keys(), gauss_time.values())\n",
    "\n",
    "plt.figure(3)\n",
    "plt.plot(lu_time.keys(), lu_time.values())"
   ],
   "metadata": {
    "collapsed": false,
    "pycharm": {
     "name": "#%%\n"
    }
   }
  },
  {
   "cell_type": "markdown",
   "source": [
    "## Źródła\n",
    "    1. https://en.wikipedia.org/wiki/Band_matrix\n",
    "    2. https://en.wikipedia.org/wiki/Jacobi_method\n",
    "    3. https://en.wikipedia.org/wiki/Gauss%E2%80%93Seidel_method\n",
    "    4. https://www.gaussianwaves.com/2013/05/solving-a-triangular-matrix-using-forward-backward-substitution/"
   ],
   "metadata": {
    "collapsed": false,
    "pycharm": {
     "name": "#%% md\n"
    }
   }
  }
 ],
 "metadata": {
  "kernelspec": {
   "display_name": "Python 3",
   "language": "python",
   "name": "python3"
  },
  "language_info": {
   "codemirror_mode": {
    "name": "ipython",
    "version": 2
   },
   "file_extension": ".py",
   "mimetype": "text/x-python",
   "name": "python",
   "nbconvert_exporter": "python",
   "pygments_lexer": "ipython2",
   "version": "2.7.6"
  }
 },
 "nbformat": 4,
 "nbformat_minor": 0
}