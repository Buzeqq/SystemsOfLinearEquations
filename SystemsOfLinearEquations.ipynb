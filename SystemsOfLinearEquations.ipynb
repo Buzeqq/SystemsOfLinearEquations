{
 "cells": [
  {
   "cell_type": "markdown",
   "source": [
    "# Układy równań liniowych\n",
    "# oraz różne sposoby ich rozwiązywania"
   ],
   "metadata": {
    "collapsed": false,
    "pycharm": {
     "name": "#%% md\n"
    }
   }
  },
  {
   "cell_type": "markdown",
   "source": [
    "## Przykładowy układ równań i sposób jego przedstawienia za pomocą macierzy\n",
    "Taki układ równań:\n",
    "$$\n",
    "    \\begin{cases}\n",
    "        2.3x_1 - 3.4x_2 + 0.66x_3 = 13.1 \\\\ \\\\\n",
    "        -0.23x_1 + 6.2x_2 + 12.2x_3 = 2.0 \\\\ \\\\\n",
    "        22.12x_1 + 3.33x_2 - 7.89x_3 = -23.12\n",
    "    \\end{cases}\n",
    "$$\n",
    "można zapisać za pomocą macierzy w ten sposób:\n",
    "$$\n",
    "    \\begin{gather}\n",
    "        \\begin{bmatrix}\n",
    "            2.3 & -3.4 & 0.66 \\\\\n",
    "            -0.23 & 6.2 & 12.2 \\\\\n",
    "            22.12 & 3.33 & -7.89\n",
    "        \\end{bmatrix}\n",
    "        *\n",
    "        \\begin{bmatrix}\n",
    "            x_1 \\\\\n",
    "            x_2 \\\\\n",
    "            x_3\n",
    "        \\end{bmatrix}\n",
    "        =\n",
    "        \\begin{bmatrix}\n",
    "            13.1 \\\\\n",
    "            2.0 \\\\\n",
    "            -23.12\n",
    "        \\end{bmatrix}\n",
    "    \\end{gather}\n",
    "$$\n",
    "gdzie kolejno $ \\bold{A} $ to macierz podstawowa (główna) układu, $ \\bold{x} $ to wektor niewiadomych oraz $ \\bold{b} $ to wektor wyrazów wolnych. Ogólnie równanie macierzowe przedstawiamy więc, w następujący sposób:\n",
    "\n",
    "$$ \\bold{A} * \\bold{x} = \\bold{b} $$\n",
    "\n",
    "Spotkać się też można z macierzą zawierającą wyrazy wolne, należy to traktować jak wiele układów równań, gdzie każdy składa się z takich samych współczynników oraz dla każdego układu przypisujemy kolejne kolumny macierzy wyrazów wolnych."
   ],
   "metadata": {
    "collapsed": false,
    "pycharm": {
     "name": "#%% md\n"
    }
   }
  },
  {
   "cell_type": "markdown",
   "source": [
    "## Analiza sposobów rozwiązywania układów macierzowych"
   ],
   "metadata": {
    "collapsed": false,
    "pycharm": {
     "name": "#%% md\n"
    }
   }
  },
  {
   "cell_type": "markdown",
   "source": [
    "### Dane testowe\n",
    "Jako dane testowe przyjmujemy macierz pasmową. Macierz pasmowa (wstęgowa) to kwadratowa macierz rzadka, której wszystkie elementy są zerowe poza diagonalą i pasmem (wstęgą) wokół niej. Mając daną macierz $ {\\displaystyle n\\times n,}$ jej elementy $ {\\displaystyle a_{i,j}} $ są niezerowe, gdy ${\\displaystyle i-k_{1}\\leqslant j\\leqslant i+k_{2},}$ gdzie ${\\displaystyle k_{1,2}\\geqslant 0}$ określają tzw. szerokość pasma. Jednak aby uprościć obliczenia będziemy operować na macierzach w formacie pełnym.\n",
    "\n",
    "Nasza macierz główna będzie wymiaru $108\\times 108, k_1 = k_2 = 2$ oraz będzie zawierać następujące elementy:\n",
    "\n",
    "$$\n",
    "\\[\n",
    "  \\bold{A} =\n",
    "  \\left[ {\\begin{array}{cccc}\n",
    "    14 & -1 & -1 & 0 & 0 & 0 & 0 & \\cdots & 0 \\\\\n",
    "    -1 & 14 & -1 & -1 & 0 & 0 & 0 & \\cdots & 0 \\\\\n",
    "    -1 & -1 & 14 & -1 & -1 & 0 & 0 & \\cdots & 0 \\\\\n",
    "    0 & -1 & -1 & 14 & -1 & -1 & 0 & \\cdots & 0 \\\\\n",
    "    \\vdots &  & \\ddots & \\ddots & \\ddots & \\ddots & \\ddots &  & \\vdots \\\\\n",
    "    0 & \\cdots & 0 & -1 & -1 & 14 & -1 & -1 & 0 \\\\\n",
    "    0 & \\cdots & 0 & 0 & -1 & -1 & 14 & -1 & -1 \\\\\n",
    "    0 & \\cdots & 0 & 0 & 0 & -1 & -1 & 14 & -1 \\\\\n",
    "    0 & \\cdots & 0 & 0 & 0 & 0 & -1 & -1 & 14 \\\\\n",
    "  \\end{array} } \\right]\n",
    "\\]\n",
    "$$\n",
    "\n",
    "wektor wyrazów wolnych:\n",
    "\n",
    "$$\n",
    "\\[\n",
    "  \\bold{b} =\n",
    "  \\left[ {\\begin{array}{cccc}\n",
    "    sin(5) \\\\\n",
    "    sin(10) \\\\\n",
    "    sin(15) \\\\\n",
    "    \\vdots \\\\\n",
    "    sin(530) \\\\\n",
    "    sin(535) \\\\\n",
    "    sin(540)\n",
    "  \\end{array} } \\right]\n",
    "\\]\n",
    "$$\n"
   ],
   "metadata": {
    "collapsed": false,
    "pycharm": {
     "name": "#%% md\n"
    }
   }
  },
  {
   "cell_type": "code",
   "execution_count": 1,
   "outputs": [],
   "source": [
    "from math import sin\n",
    "from matrix import Matrix\n",
    "\n",
    "\n",
    "def generate_test_data(size: int, a_1: float, a_2: float, a_3: float, f_4: int):\n",
    "    # print(\"N =\", size, \"\\na1 =\", a_1, \"\\na2 =\", a_2, \"\\na3 =\", a_3)\n",
    "\n",
    "    a = Matrix(size)\n",
    "    rows, cols = a.get_size()\n",
    "    for i in range(rows):\n",
    "        for j in range(cols):\n",
    "            if i == j:\n",
    "                a.set_at(i, j, a_1)\n",
    "\n",
    "            else:\n",
    "                distance = abs(i - j)\n",
    "                if distance == 1:\n",
    "                    a.set_at(i, j, a_2)\n",
    "\n",
    "                if distance == 2:\n",
    "                    a.set_at(i, j, a_3)\n",
    "\n",
    "    b = Matrix(n, m=1)\n",
    "    for i in range(b.get_size()[0]):\n",
    "        b.set_at(i, value=sin(i * (f_4 + 1)))\n",
    "\n",
    "    return a, b\n",
    "\n",
    "\n",
    "my_index = \"184934\"\n",
    "n = 9 * int(my_index[len(my_index) - 2]) * int(my_index[len(my_index) - 1])\n",
    "a1 = 5 + float(my_index[3])\n",
    "a2 = a3 = -1.0\n",
    "f = int(my_index[2])\n",
    "matrix_a, vector_b = generate_test_data(n, a1, a2, a3, f)\n",
    "\n",
    "# print(matrix_a.head(1), vector_b.head(3))"
   ],
   "metadata": {
    "collapsed": false,
    "pycharm": {
     "name": "#%%\n"
    }
   }
  },
  {
   "cell_type": "markdown",
   "source": [
    "### Metody iteracyjne\n",
    "Jako pierwsze testować będziemy metody iteracyjne, a konkretnie metodę Jacobiego oraz metodą Gaussa-Seidla. Metody iteracyjne to metody, które nie uzyskują dokładnego rozwiązania, a tylko jego przybliżenie, w zamian za szybkość działania.\n",
    "\n",
    "Bardzo ważne dla algorytmów iteracyjnych jest określenie, w jakim momencie osiągneliśmy satysfakcjonujące przybliżenie rozwiązania. W tym celu skorzystamy z tzw. *wektora residuum*, który dla *k*-tej iteracji przyjmuje postać:\n",
    "\n",
    "$$\n",
    "    \\bold{res^{(k)}} = \\bold{A}\\bold{x}^{(k)} - \\bold{b}\n",
    "$$\n",
    "\n",
    "Wielkość błędu natomiast jesteśmy w stanie zbadać określając jego normę euklidesową.\n",
    "\n",
    "$$\n",
    "    ||\\bold{e}||_2 = \\sqrt{\\sum_{j=1}^{n}e_j^2}\n",
    "$$"
   ],
   "metadata": {
    "collapsed": false,
    "pycharm": {
     "name": "#%% md\n"
    }
   }
  },
  {
   "cell_type": "code",
   "execution_count": 2,
   "outputs": [
    {
     "name": "stdout",
     "output_type": "stream",
     "text": [
      "7.341106924346289\n"
     ]
    }
   ],
   "source": [
    "from math import sqrt\n",
    "\n",
    "\n",
    "def euclidean_norm(vec: Matrix):\n",
    "    return sqrt(sum([vec.get_at(i) ** 2 for i in range(vec.get_size()[0])]))\n",
    "\n",
    "\n",
    "print(euclidean_norm(vector_b))"
   ],
   "metadata": {
    "collapsed": false,
    "pycharm": {
     "name": "#%%\n"
    }
   }
  },
  {
   "cell_type": "markdown",
   "source": [
    "#### Metoda Jacobiego\n",
    "Metoda Jacobiego to jedna z metod iteracyjnych. Do wyliczenia kolejnych wektorów przybliżeń, używany jest wektor z poprzedniej iteracji. Mimo, że część obecnego wektora jest już wyliczona.\n",
    "\n",
    "Pierwszym krokiem jest rozbicie macierzy systemowej na trzy macierze: $ \\bold{A} = -\\bold{L} -\\bold{U} + \\bold{D} $, gdzie kolejno macierz $ \\bold{L} $ to macierz trójkątna dolna, zawierająca liczby przeciwne **poniżej** głównej diagonali macierzy $ \\bold{A} $, macierz $ \\bold{U} $ to macierz trójkątna górna, zawierająca liczby przeciwne **powyżej** głównej diagonali macierzy $ \\bold{A} $, macierz $ \\bold{D} $ to macierz diagonalna, zawierająca liczby z głównej diagonali macierzy $ \\bold{A} $.\n",
    "\n",
    "Przekształcając równanie $ \\bold{A}*\\bold{x}=\\bold{b} $, wykorzystując powyższą równość otrzymujemy:\n",
    "$$\n",
    "    (-\\bold{L}-\\bold{U}+\\bold{D})\\bold{x}=\\bold{b}\n",
    "$$\n",
    "po serii przekształceń:\n",
    "$$\n",
    "    \\bold{D}\\bold{x} = (\\bold{L}+\\bold{U})\\bold{x} + \\bold{b} \\\\\n",
    "    \\bold{x} = \\bold{D}^{-1}(\\bold{L} + \\bold{U})\\bold{x} + \\bold{D}^{-1}\\bold{b} \\\\\n",
    "$$\n",
    "otrzymujemy ostateczny wzór:\n",
    "$$\n",
    "    \\tilde{\\bold{x}}^{(n+1)} = \\bold{D}^{-1}(\\bold{L} + \\bold{U})\\tilde{\\bold{x}}^{(n)} + \\bold{D}^{-1}\\bold{b}\n",
    "$$\n",
    "gdzie $ (n) $ oznacza n-tą iteracje.\n",
    "\n",
    "Metoda ta wykorzystuje szybkie obliczeniowo rozwiązywanie układów równań zapisanych za pomocą macierzy **diagonalnych**, opisane takim wzorem:\n",
    "$$\n",
    "    x_i = \\frac{b_i}{a_{ii}}\n",
    "$$\n",
    "gdzie $ i $ to kolejne indeksy rzędów."
   ],
   "metadata": {
    "collapsed": false,
    "pycharm": {
     "name": "#%% md\n"
    }
   }
  },
  {
   "cell_type": "code",
   "execution_count": 3,
   "outputs": [],
   "source": [
    "import time\n",
    "\n",
    "from matrix import diagonal_solver\n",
    "\n",
    "\n",
    "def jacobi(a: Matrix, b: Matrix, epsilon: float):\n",
    "    r = Matrix(a.get_size()[0], m=1, value=1.0)\n",
    "    it = 0\n",
    "\n",
    "    u = -a.tri_u(1)\n",
    "    l = -a.tri_l(1)\n",
    "    d = a.diag()\n",
    "\n",
    "    const_1 = diagonal_solver(d, l + u)\n",
    "    const_2 = diagonal_solver(d, b)\n",
    "\n",
    "    while True:\n",
    "        r = const_1 * r + const_2\n",
    "\n",
    "        residuum = a * r - b\n",
    "        if euclidean_norm(residuum) <= epsilon:\n",
    "            break\n",
    "\n",
    "        it += 1\n",
    "    return it, r"
   ],
   "metadata": {
    "collapsed": false,
    "pycharm": {
     "name": "#%%\n"
    }
   }
  },
  {
   "cell_type": "markdown",
   "source": [
    "#### Metoda Gaussa-Seidla\n",
    "Metoda Gaussa-Seidla to kolejna metoda iteracyjna, bardzo podobna to poprzednio opisanej."
   ],
   "metadata": {
    "collapsed": false,
    "pycharm": {
     "name": "#%% md\n"
    }
   }
  },
  {
   "cell_type": "code",
   "execution_count": 4,
   "outputs": [],
   "source": [
    "from matrix import forward_substitution_solver\n",
    "\n",
    "\n",
    "def gauss_seidel(a: Matrix, b: Matrix, epsilon: float):\n",
    "    r = Matrix(a.get_size()[0], m=1, value=1.0)\n",
    "    it = 0\n",
    "\n",
    "    u = -a.tri_u(1)\n",
    "    l = -a.tri_l(1)\n",
    "    d = a.diag()\n",
    "\n",
    "    const_1 = d - l\n",
    "    const_2 = forward_substitution_solver(const_1, b)  # TODO comment\n",
    "\n",
    "    while True:\n",
    "        r = forward_substitution_solver(const_1, u * r) + const_2  # TODO comment\n",
    "\n",
    "        residuum = a * r - b\n",
    "        if euclidean_norm(residuum) <= epsilon:\n",
    "            break\n",
    "\n",
    "        it += 1\n",
    "    return it, r"
   ],
   "metadata": {
    "collapsed": false,
    "pycharm": {
     "name": "#%%\n"
    }
   }
  },
  {
   "cell_type": "markdown",
   "source": [
    "#### Porównanie metod\n"
   ],
   "metadata": {
    "collapsed": false,
    "pycharm": {
     "name": "#%% md\n"
    }
   }
  },
  {
   "cell_type": "code",
   "execution_count": 40,
   "outputs": [
    {
     "name": "stdout",
     "output_type": "stream",
     "text": [
      "Jacobi:\n",
      "Time: 226.53ms\n",
      "Iterations: 20 \n",
      "\n",
      "Gauss-Seidel:\n",
      "Time: 248.71ms\n",
      "Iterations: 14 \n",
      "\n",
      "Jacobi method was faster by: 22.18ms\n"
     ]
    }
   ],
   "source": [
    "eps = 1e-9\n",
    "start_time = time.time()\n",
    "jacobi_iterations, _ = jacobi(matrix_a, vector_b, eps)\n",
    "jacobi_time = (time.time() - start_time) * 1000\n",
    "print(\"Jacobi:\")\n",
    "print(\"Time:\", \"%.2f\" % jacobi_time + \"ms\")\n",
    "print(\"Iterations:\", jacobi_iterations, \"\\n\")\n",
    "\n",
    "start_time = time.time()\n",
    "gauss_iterations, _ = gauss_seidel(matrix_a, vector_b, eps)\n",
    "gauss_time = (time.time() - start_time) * 1000\n",
    "print(\"Gauss-Seidel:\")\n",
    "print(\"Time:\", \"%.2f\" % gauss_time + \"ms\")\n",
    "print(\"Iterations:\", gauss_iterations, \"\\n\")\n",
    "\n",
    "delta = abs(jacobi_time - gauss_time)\n",
    "if gauss_time < jacobi_time:\n",
    "    print(\"Gauss-Seidel method was faster by:\", \"%.2f\" % delta + \"ms\")\n",
    "else:\n",
    "    print(\"Jacobi method was faster by:\", \"%.2f\" % delta + \"ms\")"
   ],
   "metadata": {
    "collapsed": false,
    "pycharm": {
     "name": "#%%\n"
    }
   }
  },
  {
   "cell_type": "markdown",
   "source": [
    "Czas działania obu metod jest bardzo podobny. Jeżeli uruchomimy obliczenia pare razy to przeważnie szybsza okaże się metoda Jacobiego, ale nie zawesze, natomiast ilość iteracji w jakiej otrzymaliśmy zadawalające przybliżenie jest mniejsza dla metody Gaussa-Seidla. Różnica ta najprawdopodobniej uwydatni się przy większych danych wejściowych.\n",
    "\n",
    "Jednak metody iteracyjne nie są idealne. Otrzymaliśmy poprawne wyniki, ponieważ dobraliśmy dane testowe do metod. Zobaczmy co się stanie, gdy dobierzemy nieco inne dane testowe."
   ],
   "metadata": {
    "collapsed": false,
    "pycharm": {
     "name": "#%% md\n"
    }
   }
  },
  {
   "cell_type": "code",
   "execution_count": 42,
   "outputs": [
    {
     "ename": "OverflowError",
     "evalue": "(34, 'Numerical result out of range')",
     "output_type": "error",
     "traceback": [
      "\u001B[0;31m---------------------------------------------------------------------------\u001B[0m",
      "\u001B[0;31mOverflowError\u001B[0m                             Traceback (most recent call last)",
      "Input \u001B[0;32mIn [42]\u001B[0m, in \u001B[0;36m<cell line: 3>\u001B[0;34m()\u001B[0m\n\u001B[1;32m      1\u001B[0m matrix_a, vector_b \u001B[38;5;241m=\u001B[39m generate_test_data(n, \u001B[38;5;241m3.\u001B[39m, \u001B[38;5;241m-\u001B[39m\u001B[38;5;241m1.\u001B[39m, \u001B[38;5;241m-\u001B[39m\u001B[38;5;241m1.\u001B[39m, f)\n\u001B[0;32m----> 3\u001B[0m \u001B[43mjacobi\u001B[49m\u001B[43m(\u001B[49m\u001B[43mmatrix_a\u001B[49m\u001B[43m,\u001B[49m\u001B[43m \u001B[49m\u001B[43mvector_b\u001B[49m\u001B[43m,\u001B[49m\u001B[43m \u001B[49m\u001B[43meps\u001B[49m\u001B[43m)\u001B[49m\n\u001B[1;32m      4\u001B[0m gauss_seidel(matrix_a, vector_b, eps)\n",
      "Input \u001B[0;32mIn [3]\u001B[0m, in \u001B[0;36mjacobi\u001B[0;34m(a, b, epsilon)\u001B[0m\n\u001B[1;32m     18\u001B[0m r \u001B[38;5;241m=\u001B[39m const_1 \u001B[38;5;241m*\u001B[39m r \u001B[38;5;241m+\u001B[39m const_2\n\u001B[1;32m     20\u001B[0m residuum \u001B[38;5;241m=\u001B[39m a \u001B[38;5;241m*\u001B[39m r \u001B[38;5;241m-\u001B[39m b\n\u001B[0;32m---> 21\u001B[0m \u001B[38;5;28;01mif\u001B[39;00m \u001B[43meuclidean_norm\u001B[49m\u001B[43m(\u001B[49m\u001B[43mresiduum\u001B[49m\u001B[43m)\u001B[49m \u001B[38;5;241m<\u001B[39m\u001B[38;5;241m=\u001B[39m epsilon:\n\u001B[1;32m     22\u001B[0m     \u001B[38;5;28;01mbreak\u001B[39;00m\n\u001B[1;32m     24\u001B[0m it \u001B[38;5;241m+\u001B[39m\u001B[38;5;241m=\u001B[39m \u001B[38;5;241m1\u001B[39m\n",
      "Input \u001B[0;32mIn [2]\u001B[0m, in \u001B[0;36meuclidean_norm\u001B[0;34m(vec)\u001B[0m\n\u001B[1;32m      4\u001B[0m \u001B[38;5;28;01mdef\u001B[39;00m \u001B[38;5;21meuclidean_norm\u001B[39m(vec: Matrix):\n\u001B[0;32m----> 5\u001B[0m     \u001B[38;5;28;01mreturn\u001B[39;00m sqrt(\u001B[38;5;28msum\u001B[39m([vec\u001B[38;5;241m.\u001B[39mget_at(i) \u001B[38;5;241m*\u001B[39m\u001B[38;5;241m*\u001B[39m \u001B[38;5;241m2\u001B[39m \u001B[38;5;28;01mfor\u001B[39;00m i \u001B[38;5;129;01min\u001B[39;00m \u001B[38;5;28mrange\u001B[39m(vec\u001B[38;5;241m.\u001B[39mget_size()[\u001B[38;5;241m0\u001B[39m])]))\n",
      "Input \u001B[0;32mIn [2]\u001B[0m, in \u001B[0;36m<listcomp>\u001B[0;34m(.0)\u001B[0m\n\u001B[1;32m      4\u001B[0m \u001B[38;5;28;01mdef\u001B[39;00m \u001B[38;5;21meuclidean_norm\u001B[39m(vec: Matrix):\n\u001B[0;32m----> 5\u001B[0m     \u001B[38;5;28;01mreturn\u001B[39;00m sqrt(\u001B[38;5;28msum\u001B[39m([\u001B[43mvec\u001B[49m\u001B[38;5;241;43m.\u001B[39;49m\u001B[43mget_at\u001B[49m\u001B[43m(\u001B[49m\u001B[43mi\u001B[49m\u001B[43m)\u001B[49m\u001B[43m \u001B[49m\u001B[38;5;241;43m*\u001B[39;49m\u001B[38;5;241;43m*\u001B[39;49m\u001B[43m \u001B[49m\u001B[38;5;241;43m2\u001B[39;49m \u001B[38;5;28;01mfor\u001B[39;00m i \u001B[38;5;129;01min\u001B[39;00m \u001B[38;5;28mrange\u001B[39m(vec\u001B[38;5;241m.\u001B[39mget_size()[\u001B[38;5;241m0\u001B[39m])]))\n",
      "\u001B[0;31mOverflowError\u001B[0m: (34, 'Numerical result out of range')"
     ]
    }
   ],
   "source": [
    "matrix_a, vector_b = generate_test_data(n, 3., -1., -1., f)\n",
    "\n",
    "jacobi(matrix_a, vector_b, eps)\n",
    "gauss_seidel(matrix_a, vector_b, eps)"
   ],
   "metadata": {
    "collapsed": false,
    "pycharm": {
     "name": "#%%\n"
    }
   }
  },
  {
   "cell_type": "markdown",
   "source": [
    "# TODO wyjaśnić co dlaczego i jak\n",
    "Metoda ta pozwala otrzymać poprawne przybliżenia dla macierzy **diagonalnie dominujących**, czyli takich, dla których suma modułów wartości elementów w danym rzędzie, poza elementem na diagonali, jest mniejsza od modułu wartości na diagonali.\n",
    "$$\n",
    "    |a_{ii}| > \\sum_{}^{}_{i\\ne{j}}|a_{ij}|\n",
    "$$\n",
    "Jednym z warunków otrzymania prawidłowego przybliżenia jest tak samo macierz **diagnoalnie dominująca**."
   ],
   "metadata": {
    "collapsed": false,
    "pycharm": {
     "name": "#%% md\n"
    }
   }
  },
  {
   "cell_type": "markdown",
   "source": [
    "### Metody bezpośrednie"
   ],
   "metadata": {
    "collapsed": false,
    "pycharm": {
     "name": "#%% md\n"
    }
   }
  },
  {
   "cell_type": "markdown",
   "source": [
    "## Źródła\n",
    "    1. https://en.wikipedia.org/wiki/Band_matrix\n",
    "    2. https://www.gaussianwaves.com/2013/05/solving-a-triangular-matrix-using-forward-backward-substitution/"
   ],
   "metadata": {
    "collapsed": false,
    "pycharm": {
     "name": "#%% md\n"
    }
   }
  }
 ],
 "metadata": {
  "kernelspec": {
   "display_name": "Python 3",
   "language": "python",
   "name": "python3"
  },
  "language_info": {
   "codemirror_mode": {
    "name": "ipython",
    "version": 2
   },
   "file_extension": ".py",
   "mimetype": "text/x-python",
   "name": "python",
   "nbconvert_exporter": "python",
   "pygments_lexer": "ipython2",
   "version": "2.7.6"
  }
 },
 "nbformat": 4,
 "nbformat_minor": 0
}