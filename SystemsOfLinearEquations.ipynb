{
 "cells": [
  {
   "cell_type": "markdown",
   "source": [
    "# Układy równań liniowych\n",
    "# oraz różne sposoby ich rozwiązywania"
   ],
   "metadata": {
    "collapsed": false,
    "pycharm": {
     "name": "#%% md\n"
    }
   }
  },
  {
   "cell_type": "markdown",
   "source": [
    "## Przykładowy układ równań i sposób jego przedstawienia za pomocą macierzy\n",
    "Taki układd równań:\n",
    "$$\n",
    "    \\begin{cases}\n",
    "        2.3x_1 - 3.4x_2 + 0.66x_3 = 13.1 \\\\ \\\\\n",
    "        -0.23x_1 + 6.2x_2 + 12.2x_3 = 2.0 \\\\ \\\\\n",
    "        22.12x_1 + 3.33x_2 - 7.89x_3 = -23.12\n",
    "    \\end{cases}\n",
    "$$\n",
    "można zapisać za pomocą macierzy w ten sposób:\n",
    "$$\n",
    "    \\begin{gather}\n",
    "        \\begin{bmatrix}\n",
    "            2.3 & -3.4 & 0.66 \\\\\n",
    "            -0.23 & 6.2 & 12.2 \\\\\n",
    "            22.12 & 3.33 & -7.89\n",
    "        \\end{bmatrix}\n",
    "        *\n",
    "        \\begin{bmatrix}\n",
    "            x_1 \\\\\n",
    "            x_2 \\\\\n",
    "            x_3\n",
    "        \\end{bmatrix}\n",
    "        =\n",
    "        \\begin{bmatrix}\n",
    "            13.1 \\\\\n",
    "            2.0 \\\\\n",
    "            -23.12\n",
    "        \\end{bmatrix}\n",
    "    \\end{gather}\n",
    "$$\n",
    "gdzie kolejno $ \\bold{A} $ to macierz podstawowa (główna) układu, $ \\bold{x} $ to wektor niewiadomych oraz $ \\bold{b} $ to wektor wyrazów wolnych. Ogólnie równanie macierzowe przedstawiamy więc, w następujący sposób:\n",
    "\n",
    "$$ \\bold{A} * \\bold{x} = \\bold{b} $$\n",
    "\n",
    "Spotkać się też można z macierzą zawierającą wyrazy wolne, należy to traktować jak wiele układów równań, gdzie każdy składa się z takich samych współczynników oraz dla każdego układu przypisujemy kolejne kolumny macierzy wyrazów wolnych."
   ],
   "metadata": {
    "collapsed": false,
    "pycharm": {
     "name": "#%% md\n"
    }
   }
  },
  {
   "cell_type": "markdown",
   "source": [
    "## Analiza sposobów rozwiązywania układów macierzowych"
   ],
   "metadata": {
    "collapsed": false,
    "pycharm": {
     "name": "#%% md\n"
    }
   }
  },
  {
   "cell_type": "markdown",
   "source": [
    "### Dane testowe\n",
    "Jako dane testowe przyjmujemy macierz pasmową. Macierz pasmowa (wstęgowa) to kwadratowa macierz rzadka, której wszystkie elementy są zerowe poza diagonalą i pasmem (wstęgą) wokół niej. Mając daną macierz $ {\\displaystyle n\\times n,}$ jej elementy $ {\\displaystyle a_{i,j}} $ są niezerowe, gdy ${\\displaystyle i-k_{1}\\leqslant j\\leqslant i+k_{2},}$ gdzie ${\\displaystyle k_{1,2}\\geqslant 0}$ określają tzw. szerokość pasma. Jednak aby uprościć obliczenia będziemy operować na macierzach w formacie pełnym.\n",
    "\n",
    "Nasza macierz główna będzie wymiaru $108\\times 108, k_1 = k_2 = 2$ oraz będzie zawierać następujące elementy:\n",
    "\n",
    "$$\n",
    "\\[\n",
    "  \\bold{A} =\n",
    "  \\left[ {\\begin{array}{cccc}\n",
    "    14 & -1 & -1 & 0 & 0 & 0 & 0 & \\cdots & 0 \\\\\n",
    "    -1 & 14 & -1 & -1 & 0 & 0 & 0 & \\cdots & 0 \\\\\n",
    "    -1 & -1 & 14 & -1 & -1 & 0 & 0 & \\cdots & 0 \\\\\n",
    "    0 & -1 & -1 & 14 & -1 & -1 & 0 & \\cdots & 0 \\\\\n",
    "    \\vdots &  & \\ddots & \\ddots & \\ddots & \\ddots & \\ddots &  & \\vdots \\\\\n",
    "    0 & \\cdots & 0 & -1 & -1 & 14 & -1 & -1 & 0 \\\\\n",
    "    0 & \\cdots & 0 & 0 & -1 & -1 & 14 & -1 & -1 \\\\\n",
    "    0 & \\cdots & 0 & 0 & 0 & -1 & -1 & 14 & -1 \\\\\n",
    "    0 & \\cdots & 0 & 0 & 0 & 0 & -1 & -1 & 14 \\\\\n",
    "  \\end{array} } \\right]\n",
    "\\]\n",
    "$$\n",
    "\n",
    "wektor wyrazów wolnych:\n",
    "\n",
    "$$\n",
    "\\[\n",
    "  \\bold{b} =\n",
    "  \\left[ {\\begin{array}{cccc}\n",
    "    sin(5) \\\\\n",
    "    sin(10) \\\\\n",
    "    sin(15) \\\\\n",
    "    \\vdots \\\\\n",
    "    sin(530) \\\\\n",
    "    sin(535) \\\\\n",
    "    sin(540)\n",
    "  \\end{array} } \\right]\n",
    "\\]\n",
    "$$\n"
   ],
   "metadata": {
    "collapsed": false,
    "pycharm": {
     "name": "#%% md\n"
    }
   }
  },
  {
   "cell_type": "code",
   "execution_count": 8,
   "outputs": [
    {
     "name": "stdout",
     "output_type": "stream",
     "text": [
      "[[14.0, -1.0, -1.0, 0, 0, 0, 0, 0, 0, 0, 0, 0, 0, 0, 0, 0, 0, 0, 0, 0, 0, 0, 0, 0, 0, 0, 0, 0, 0, 0, 0, 0, 0, 0, 0, 0, 0, 0, 0, 0, 0, 0, 0, 0, 0, 0, 0, 0, 0, 0, 0, 0, 0, 0, 0, 0, 0, 0, 0, 0, 0, 0, 0, 0, 0, 0, 0, 0, 0, 0, 0, 0, 0, 0, 0, 0, 0, 0, 0, 0, 0, 0, 0, 0, 0, 0, 0, 0, 0, 0, 0, 0, 0, 0, 0, 0, 0, 0, 0, 0, 0, 0, 0, 0, 0, 0, 0, 0]] [[0.0], [-0.9589242746631385], [-0.5440211108893698]]\n"
     ]
    }
   ],
   "source": [
    "from math import sin\n",
    "from matrix import Matrix\n",
    "\n",
    "def generate_test_data(size: int, a_1: float, a_2: float, a_3: float, f_4: int):\n",
    "    # print(\"N =\", size, \"\\na1 =\", a_1, \"\\na2 =\", a_2, \"\\na3 =\", a_3)\n",
    "\n",
    "    a =  Matrix(size)\n",
    "    rows, cols = a.get_size()\n",
    "    for i in range(rows):\n",
    "        for j in range(cols):\n",
    "            if i == j:\n",
    "                a.set_at(i, j, a_1)\n",
    "\n",
    "            else:\n",
    "                distance = abs(i - j)\n",
    "                if distance == 1:\n",
    "                    a.set_at(i, j, a_2)\n",
    "\n",
    "                if distance == 2:\n",
    "                    a.set_at(i, j, a_3)\n",
    "\n",
    "    b = Matrix(n, m=1)\n",
    "    for i in range(b.get_size()[0]):\n",
    "        b.set_at(i, value=sin(i * (f_4 + 1)))\n",
    "\n",
    "    return a, b\n",
    "\n",
    "my_index = \"184934\"\n",
    "n = 9 * int(my_index[len(my_index) - 2]) * int(my_index[len(my_index) - 1])\n",
    "a1 = 5 + float(my_index[3])\n",
    "a2 = a3 = -1.0\n",
    "f = int(my_index[2])\n",
    "matrix_a, vector_b = generate_test_data(n, a1, a2, a3, f)\n",
    "\n",
    "print(matrix_a.head(1), vector_b.head(3))"
   ],
   "metadata": {
    "collapsed": false,
    "pycharm": {
     "name": "#%%\n"
    }
   }
  },
  {
   "cell_type": "markdown",
   "source": [
    "### Metody iteracyjne\n",
    "Jako pierwsze testować będziemy metody iteracyjne, a konkretnie metodę Jacobiego oraz metodą Gaussa-Seidla. Metody iteracyjne to metody, które nie uzyskują dokładnego rozwiązania, a tylko jego przybliżenie, w zamian za szybkość działania.\n",
    "\n",
    "Bardzo ważne dla algorytmów iteracyjnych jest określenie, w jakim momencie osiągneliśmy satysfakcjonujące przybliżenie rozwiązania. W tym celu skorzystamy z tzw. *wektora residuum*, który dla *k*-tej iteracji przyjmuje postać:\n",
    "\n",
    "$$\n",
    "    \\bold{res^{(k)}} = \\bold{A}\\bold{x}^{(k)} - \\bold{b}\n",
    "$$\n",
    "\n",
    "Wielkość błędu natomiast jesteśmy w stanie zbadać określając jego normę euklidesową.\n",
    "\n",
    "$$\n",
    "    ||\\bold{e}||_2 = \\sqrt{\\sum_{j=1}^{n}e_j^2}\n",
    "$$"
   ],
   "metadata": {
    "collapsed": false,
    "pycharm": {
     "name": "#%% md\n"
    }
   }
  },
  {
   "cell_type": "code",
   "execution_count": 3,
   "outputs": [
    {
     "name": "stdout",
     "output_type": "stream",
     "text": [
      "7.341106924346289\n"
     ]
    }
   ],
   "source": [
    "from math import sqrt\n",
    "\n",
    "def euclidean_norm(vec: Matrix):\n",
    "    return sqrt(sum([vec.get_at(i) ** 2 for i in range(vec.get_size()[0])]))\n",
    "\n",
    "print(euclidean_norm(vector_b))"
   ],
   "metadata": {
    "collapsed": false,
    "pycharm": {
     "name": "#%%\n"
    }
   }
  },
  {
   "cell_type": "markdown",
   "source": [
    "#### Metoda Jacobiego\n",
    "Metoda Jacobiego to jedna z metod iteracyjnych. Metoda ta służy do rozwiązywania układów macierzowych **diagonalnie dominujących**, to takich, dla których suma modułów wartości elementów w danym rzędzie, poza elementem na diagonali, jest mniejsza od modułu wartości na diagonali.\n",
    "\n",
    "$$\n",
    "    |a_{ii}| > \\sum_{}^{}_{i\\ne{j}}|a_{ij}|\n",
    "$$\n",
    "\n",
    "Metoda ta wykorzystuje szybkie obliczeniowo rozwiązywanie układów równań zapisanych za pomocą macierzy **diagonalnych**.\n",
    "Pierwszym krokiem jest rozbicie macierzy systemowej na trzy macierze: $ \\bold{A} = \\bold{L} + \\bold{U} + \\bold{D} $, gdzie kolejno macierz $ \\bold{L} $ to macierz trójkątna dolna, zawierająca elementy **poniżej** głównej diagonali macierzy $ \\bold{A} $, macierz $ \\bold{L} $ to macierz trójkątna górna, zawierająca elementy **powyżej** głównej diagonali macierzy $ \\bold{A} $, macierz $ \\bold{D} $ to macierz diagonalna, zawierająca elementy z głównej diagonali macierzy $ \\bold{A} $.\n",
    "\n"
   ],
   "metadata": {
    "collapsed": false,
    "pycharm": {
     "name": "#%% md\n"
    }
   }
  },
  {
   "cell_type": "code",
   "execution_count": 5,
   "outputs": [
    {
     "name": "stdout",
     "output_type": "stream",
     "text": [
      "20 [[-0.007541429934607744], [-0.0686305618789963], [-0.03694945721119558], [0.042587295493920534], [0.06031340623917146], [-0.00879909040787026], [-0.06539631127411015], [-0.02833990609442667], [0.04930885649272106], [0.05631052933537321], [-0.01736348157815832], [-0.06616158269077792], [-0.0201716915607347], [0.05471765945700439], [0.05121434402873894], [-0.02566251690507197], [-0.0657733161830597], [-0.011652288600959375], [0.059162688800857614], [0.04521672378526106], [-0.03351013942709633], [-0.06422784255266173], [-0.0029278809404998463], [0.06256678434506487], [0.03842354251525188], [-0.04076817225348106], [-0.061552320187408784], [0.0058480409294720415], [0.06487005633425183], [0.03095432297769975], [-0.04730891451809502], [-0.05779382314051216], [0.014521070166848492], [0.06603198014347755], [0.022940481434457132], [-0.053017285939544995], [-0.05301847982295814], [0.022938610231887663], [0.06603211244807011], [0.014523016429037701], [-0.05779285128313255], [-0.04731030942190768], [0.030952559757392164], [0.06487045092021285], [0.00585002800801211], [-0.06155158745528603], [-0.04076974363522756], [0.03842191829997703], [0.06256743426992879], [-0.0029258880069282793], [-0.06422736183748141], [-0.0335118596384073], [0.04521526715492564], [0.0591635826387262], [-0.0116503248472759], [-0.06577309584841659], [-0.025664355373433097], [0.051213081586329964], [0.054718784672982045], [-0.020169781488491193], [-0.0661615932622851], [-0.017365302783147303], [0.056309833790267896], [0.04931124382056336], [-0.028334363404786653], [-0.06538601870940622], [-0.008760718521533274], [0.06041584959069285], [0.04303610238993949], [-0.03600041986981482], [-0.06346001794029113], [-1.994881763018265e-06], [0.06345888620062907], [0.036003767580607464], [-0.04303307140159952], [-0.06041747773717381], [0.008756763856773648], [0.06538540328894861], [0.028337968937280716], [-0.04930858288289331], [-0.056311929697213846], [0.01736145279714612], [0.06616150498910389], [0.020173581405726632], [-0.054716540603376426], [-0.05121560837739167], [0.025660677804564536], [0.0657735362762148], [0.011654252293706611], [-0.05916179491521813], [-0.04521818035702427], [0.033508419241714486], [0.06422832337982003], [0.002929874404560399], [-0.0625661326597109], [-0.03842516123565794], [0.040766618448867295], [0.06155310937936787], [-0.005845870998233466], [-0.06486907646074781], [-0.030954185734291713], [0.047313572905337796], [0.05781457956801758], [-0.014456647564896095], [-0.06582529321863036], [-0.022300076618698126], [0.05518331885062849], [0.05957527984280192]]\n"
     ]
    }
   ],
   "source": [
    "from matrix import diagonal_solver\n",
    "\n",
    "def jacobi(a: Matrix, b: Matrix, epsilon: float):\n",
    "    r = Matrix(a.get_size()[0], m=1, value=1.0)\n",
    "    it = 0\n",
    "\n",
    "    l_sum_u = a.tri_l(1) + a.tri_u(1)\n",
    "    d = a.diag()\n",
    "\n",
    "    const_1 = diagonal_solver(-d, l_sum_u) # TODO comment\n",
    "    const_2 = diagonal_solver(d, b) # TODO comment\n",
    "\n",
    "    while True:\n",
    "        r = const_1 * r + const_2\n",
    "\n",
    "        residuum = a * r - b\n",
    "        if euclidean_norm(residuum) <= epsilon:\n",
    "            break\n",
    "\n",
    "        it += 1\n",
    "    return it, r\n",
    "\n",
    "eps = 1e-9\n",
    "iterations, result = jacobi(matrix_a, vector_b, eps)\n",
    "print(iterations, result)"
   ],
   "metadata": {
    "collapsed": false,
    "pycharm": {
     "name": "#%%\n"
    }
   }
  },
  {
   "cell_type": "markdown",
   "source": [
    "### Metoda Gaussa-Seidla\n"
   ],
   "metadata": {
    "collapsed": false,
    "pycharm": {
     "name": "#%% md\n"
    }
   }
  },
  {
   "cell_type": "code",
   "execution_count": null,
   "outputs": [],
   "source": [
    "def gauss_seidl(a: Matrix, b: Matrix, epsilon: float):\n",
    "    pass"
   ],
   "metadata": {
    "collapsed": false,
    "pycharm": {
     "name": "#%%\n"
    }
   }
  },
  {
   "cell_type": "markdown",
   "source": [
    "### Metody bezpośrednie"
   ],
   "metadata": {
    "collapsed": false,
    "pycharm": {
     "name": "#%% md\n"
    }
   }
  },
  {
   "cell_type": "markdown",
   "source": [
    "## Źródła\n",
    "    1. https://en.wikipedia.org/wiki/Band_matrix"
   ],
   "metadata": {
    "collapsed": false,
    "pycharm": {
     "name": "#%% md\n"
    }
   }
  }
 ],
 "metadata": {
  "kernelspec": {
   "display_name": "Python 3",
   "language": "python",
   "name": "python3"
  },
  "language_info": {
   "codemirror_mode": {
    "name": "ipython",
    "version": 2
   },
   "file_extension": ".py",
   "mimetype": "text/x-python",
   "name": "python",
   "nbconvert_exporter": "python",
   "pygments_lexer": "ipython2",
   "version": "2.7.6"
  }
 },
 "nbformat": 4,
 "nbformat_minor": 0
}